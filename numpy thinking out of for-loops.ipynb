{
 "cells": [
  {
   "cell_type": "code",
   "execution_count": 46,
   "metadata": {},
   "outputs": [],
   "source": [
    "## Sample optmization problem to move away from loop logic in numpy\n",
    "## https://softwareengineering.stackexchange.com/questions/254475/how-do-i-move-away-from-the-for-loop-school-of-thought"
   ]
  },
  {
   "cell_type": "code",
   "execution_count": 4,
   "metadata": {},
   "outputs": [],
   "source": [
    "import numpy as np"
   ]
  },
  {
   "cell_type": "code",
   "execution_count": 5,
   "metadata": {},
   "outputs": [],
   "source": [
    "# Optimization Problem 1\n",
    "def sumproducts(x, y):\n",
    "    \"\"\"Return the sum of x[i] * y[j] for all pairs of indices i, j.\n",
    "\n",
    "    >>> sumproducts(np.arange(3000), np.arange(3000))\n",
    "    20236502250000\n",
    "\n",
    "    \"\"\"\n",
    "    result = 0\n",
    "    for i in range(len(x)):\n",
    "        for j in range(len(y)):\n",
    "            result += x[i] * y[j]\n",
    "    return result"
   ]
  },
  {
   "cell_type": "code",
   "execution_count": 44,
   "metadata": {},
   "outputs": [
    {
     "data": {
      "text/plain": [
       "True"
      ]
     },
     "execution_count": 44,
     "metadata": {},
     "output_type": "execute_result"
    }
   ],
   "source": [
    "sumproducts(np.arange(3000), np.arange(3000)) == 20236502250000"
   ]
  },
  {
   "cell_type": "code",
   "execution_count": 29,
   "metadata": {},
   "outputs": [
    {
     "name": "stdout",
     "output_type": "stream",
     "text": [
      "2.63 s ± 117 ms per loop (mean ± std. dev. of 7 runs, 1 loop each)\n"
     ]
    }
   ],
   "source": [
    "%%timeit\n",
    "sumproducts(np.arange(3000), np.arange(3000)) == 20236502250000"
   ]
  },
  {
   "cell_type": "code",
   "execution_count": 26,
   "metadata": {},
   "outputs": [],
   "source": [
    "# Optimization solution 1\n",
    "\n",
    "def optimized_sumproducts(x, y):\n",
    "    result = [(x * y1).sum() for y1 in y]\n",
    "    return np.array(result).sum()"
   ]
  },
  {
   "cell_type": "code",
   "execution_count": 45,
   "metadata": {},
   "outputs": [
    {
     "data": {
      "text/plain": [
       "True"
      ]
     },
     "execution_count": 45,
     "metadata": {},
     "output_type": "execute_result"
    }
   ],
   "source": [
    "optimized_sumproducts(np.arange(3000), np.arange(3000)) == 20236502250000"
   ]
  },
  {
   "cell_type": "code",
   "execution_count": 28,
   "metadata": {},
   "outputs": [
    {
     "name": "stdout",
     "output_type": "stream",
     "text": [
      "15.8 ms ± 321 µs per loop (mean ± std. dev. of 7 runs, 100 loops each)\n"
     ]
    }
   ],
   "source": [
    "%%timeit\n",
    "optimized_sumproducts(np.arange(3000), np.arange(3000)) == 20236502250000"
   ]
  },
  {
   "cell_type": "code",
   "execution_count": 34,
   "metadata": {},
   "outputs": [],
   "source": [
    "# Optimization problem 2\n",
    "def countlower(x, y):\n",
    "    \"\"\"Return the number of pairs i, j such that x[i] < y[j].\n",
    "\n",
    "    >>> countlower(np.arange(0, 200, 2), np.arange(40, 140))\n",
    "    4500\n",
    "\n",
    "    \"\"\"\n",
    "    result = 0\n",
    "    for i in range(len(x)):\n",
    "        for j in range(len(y)):\n",
    "            if x[i] < y[j]:\n",
    "                result += 1\n",
    "    return result\n"
   ]
  },
  {
   "cell_type": "code",
   "execution_count": null,
   "metadata": {},
   "outputs": [],
   "source": [
    "countlower(np.arange(0, 200, 2), np.arange(40, 140)) == 4500"
   ]
  },
  {
   "cell_type": "code",
   "execution_count": 43,
   "metadata": {},
   "outputs": [
    {
     "name": "stdout",
     "output_type": "stream",
     "text": [
      "2.27 ms ± 258 µs per loop (mean ± std. dev. of 7 runs, 100 loops each)\n"
     ]
    }
   ],
   "source": [
    "%%timeit\n",
    "countlower(np.arange(0, 200, 2), np.arange(40, 140)) == 4500"
   ]
  },
  {
   "cell_type": "code",
   "execution_count": 39,
   "metadata": {},
   "outputs": [],
   "source": [
    "# Optimization solution 2\n",
    "def optimized_countlower(x, y):\n",
    "    result = [(x1 < y) for x1 in x]\n",
    "    return np.array(result).sum()"
   ]
  },
  {
   "cell_type": "code",
   "execution_count": null,
   "metadata": {},
   "outputs": [],
   "source": [
    "optimized_countlower(np.arange(0, 200, 2), np.arange(40, 140)) == 4500"
   ]
  },
  {
   "cell_type": "code",
   "execution_count": 42,
   "metadata": {},
   "outputs": [
    {
     "name": "stdout",
     "output_type": "stream",
     "text": [
      "154 µs ± 22.2 µs per loop (mean ± std. dev. of 7 runs, 10000 loops each)\n"
     ]
    }
   ],
   "source": [
    "%%timeit\n",
    "optimized_countlower(np.arange(0, 200, 2), np.arange(40, 140)) == 4500"
   ]
  },
  {
   "cell_type": "code",
   "execution_count": 47,
   "metadata": {},
   "outputs": [],
   "source": [
    "# Optimization problem 1\n",
    "def cleanup(x, missing=-1, value=0):\n",
    "    \"\"\"Return an array that's the same as x, except that where x ==\n",
    "    missing, it has value instead.\n",
    "\n",
    "    >>> cleanup(np.arange(-3, 3), value=10)\n",
    "    ... # doctest: +NORMALIZE_WHITESPACE\n",
    "    array([-3, -2, 10, 0, 1, 2])\n",
    "\n",
    "    \"\"\"\n",
    "    result = []\n",
    "    for i in range(len(x)):\n",
    "        if x[i] == missing:\n",
    "            result.append(value)\n",
    "        else:\n",
    "            result.append(x[i])\n",
    "    return np.array(result)"
   ]
  },
  {
   "cell_type": "code",
   "execution_count": 48,
   "metadata": {},
   "outputs": [
    {
     "data": {
      "text/plain": [
       "array([-3, -2, 10,  0,  1,  2])"
      ]
     },
     "execution_count": 48,
     "metadata": {},
     "output_type": "execute_result"
    }
   ],
   "source": [
    "cleanup(np.arange(-3, 3), value=10)"
   ]
  },
  {
   "cell_type": "code",
   "execution_count": 49,
   "metadata": {},
   "outputs": [],
   "source": [
    "# Optimization solution 1\n",
    "def optimized_cleanup(x, missing=-1, value=0):\n",
    "    return x"
   ]
  },
  {
   "cell_type": "code",
   "execution_count": 50,
   "metadata": {},
   "outputs": [
    {
     "data": {
      "text/plain": [
       "array([-3, -2, -1,  0,  1,  2])"
      ]
     },
     "execution_count": 50,
     "metadata": {},
     "output_type": "execute_result"
    }
   ],
   "source": [
    "optimized_cleanup(np.arange(-3, 3), value=10)"
   ]
  },
  {
   "cell_type": "code",
   "execution_count": null,
   "metadata": {},
   "outputs": [],
   "source": []
  }
 ],
 "metadata": {
  "kernelspec": {
   "display_name": "Python 3",
   "language": "python",
   "name": "python3"
  },
  "language_info": {
   "codemirror_mode": {
    "name": "ipython",
    "version": 3
   },
   "file_extension": ".py",
   "mimetype": "text/x-python",
   "name": "python",
   "nbconvert_exporter": "python",
   "pygments_lexer": "ipython3",
   "version": "3.7.1"
  }
 },
 "nbformat": 4,
 "nbformat_minor": 2
}
